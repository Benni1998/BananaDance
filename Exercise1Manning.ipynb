{
 "cells": [
  {
   "cell_type": "markdown",
   "id": "429b9515-bf0d-47cc-9c01-c8214a998ea3",
   "metadata": {},
   "source": [
    "# Excercise 1 Invert the function"
   ]
  },
  {
   "cell_type": "code",
   "execution_count": 68,
   "id": "65c9e20e-7493-4592-8d3f-af2c289b73bf",
   "metadata": {},
   "outputs": [
    {
     "name": "stdin",
     "output_type": "stream",
     "text": [
      "Geben Sie eine Wasserhöhe an:  4\n",
      "Geben Sie den Parameter: D_90, k_st oder n_m ein:  n_m\n",
      "Geben Sie den Wert für n_m ein:  0.011\n"
     ]
    },
    {
     "name": "stdout",
     "output_type": "stream",
     "text": [
      "Discharge with h=4.00m Result:670.08m^3/s \n",
      "The interpolate h is 3.83m, with eps= 1.00 and Qk is 0.08 and k_st= 90.91 with 1000.00 iterations\n"
     ]
    }
   ],
   "source": [
    "import math as m\n",
    "\n",
    "\n",
    "def calc_discharge(b, h, m_bank, S_0, **kwargs):\n",
    "    \"\"\"\n",
    "    Calculate the discahrge dependent on h\n",
    "    \"\"\"\n",
    "    #auslesen des dictionary welches so aussieht {kwargs_name: kwargs_value}, umformung von den 3 möglichkeiten zu k_st\n",
    "    for kwarg in kwargs.items():\n",
    "        \n",
    "        if \"D_90\" in kwarg[0]:\n",
    "            k_st = 26 / (kwarg[1] ** (1/6))\n",
    "            \n",
    "        elif \"k_st\" in kwarg[0]:\n",
    "            k_st = kwarg[1]\n",
    "            \n",
    "        elif \"n_m\" in kwarg[0]:\n",
    "            k_st = 1 / kwarg[1]\n",
    "            \n",
    "    A = h * (b + h * m_bank)\n",
    "    #berechnen von A mit m_bank und abhängig von h\n",
    "    \n",
    "    P = b + 2*h * m.sqrt(m_bank**2 + 1)\n",
    "    #berechnen von P mit m_bank und abhängig von h\n",
    "    \n",
    "    Q = k_st * m.sqrt(S_0) * (A/P)**(2/3) * A\n",
    "    #berechnen des Q abhängig von S_0 und h\n",
    "    \n",
    "    return Q,A,P,k_st\n",
    "    #ausgabe von allen 4 wichtigen Werten\n",
    "    \n",
    "def interpolate_h(eps, Q, b, h, A, P, k_st, m_bank, S_0):\n",
    "    \"\"\"\n",
    "    Invert the function, also add an emergency break for max iterations--> counter 1000\n",
    "    \"\"\"\n",
    "    counter=0\n",
    "    \n",
    "    while eps > 10**-3:\n",
    "        \n",
    "        Qk = A ** (5/3) * m.sqrt(S_0) / (k_st * P ** (2 / 3))\n",
    "        eps = abs(Q - Qk) / Q\n",
    "        dA_dh = b + 2 * m_bank * h\n",
    "        dP_dh = 2 * m.sqrt(m_bank ** 2 + 1)\n",
    "        F = k_st * Q * P ** (2 / 3) - A ** (5 / 3) * m.sqrt(S_0)\n",
    "        dF_dh = 2/3 * k_st * Q * P ** (-1 / 3) * dP_dh - 5 / 3 * A ** (2 / 3) * m.sqrt(S_0) * dA_dh\n",
    "        h = abs(h - F / dF_dh)\n",
    "        \n",
    "        counter+=1\n",
    "        #Emergency Stop for limit max iterations to 1000 counts\n",
    "        if counter==1000:\n",
    "            break\n",
    "    \n",
    "    return h,eps,Qk,counter\n",
    "    \n",
    "        \n",
    "    \n",
    "\n",
    "if __name__ == '__main__':\n",
    "    # input parameters\n",
    "    Q = 15.5        # discharge in (m3/s)\n",
    "    b = 5.1         # bottom channel width (m)\n",
    "    m_bank = 2.5    # bank slope\n",
    "    #k_st = 20       # Strickler value\n",
    "    #n_m = 1 / k_st  # Manning's n\n",
    "    S_0 = 0.005     # channel slope\n",
    "    eps = 1.0       # \n",
    "\n",
    "    h = float(input(\"Geben Sie eine Wasserhöhe an: \"))         # water height\n",
    "    \n",
    "    kwargs_name = input(\"Geben Sie den Parameter: D_90, k_st oder n_m ein: \").strip()\n",
    "    #kwargs_name ist string als Eingabe, .strip ist für Leerzeichen rausfiltern\n",
    "    kwargs_value = float(input(f\"Geben Sie den Wert für {kwargs_name} ein: \"))\n",
    "    #kwargs_value ist string, welcher konveritert wird und das f\"\" ermöglicht die eingabe von einem Value {} in einen string\n",
    "    Q,A,P,k_st = calc_discharge(b, h, m_bank, S_0, **{kwargs_name: kwargs_value})\n",
    "    #multiple return values mit , trennen und **{ : } so dictonary übergeben, sodass funktion das auslesen kann mit input\n",
    "    print (\"Discharge with h=%0.2fm is %0.2fm^3/s \" %(h,Q)) \n",
    "\n",
    "    h,eps,Qk,counter = interpolate_h(eps, Q, b, h, A, P, k_st, m_bank, S_0)\n",
    "\n",
    "    print (\"The interpolate h is %0.2fm, with eps= %0.2f and Qk is %0.2fm^3/s and k_st= %0.2f with %0.2f iterations\" %(h,eps,Qk,k_st,counter)) \n",
    "    # call the solver with user-defined channel geometry and discharge\n",
    "    "
   ]
  },
  {
   "cell_type": "code",
   "execution_count": null,
   "id": "9b1ded7c-6c69-46cc-b1ba-593b2f710b1c",
   "metadata": {},
   "outputs": [],
   "source": []
  }
 ],
 "metadata": {
  "kernelspec": {
   "display_name": "Python 3 (ipykernel)",
   "language": "python",
   "name": "python3"
  },
  "language_info": {
   "codemirror_mode": {
    "name": "ipython",
    "version": 3
   },
   "file_extension": ".py",
   "mimetype": "text/x-python",
   "name": "python",
   "nbconvert_exporter": "python",
   "pygments_lexer": "ipython3",
   "version": "3.12.3"
  }
 },
 "nbformat": 4,
 "nbformat_minor": 5
}
