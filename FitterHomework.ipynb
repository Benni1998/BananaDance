{
 "cells": [
  {
   "cell_type": "code",
   "execution_count": 4,
   "id": "609d5a88",
   "metadata": {},
   "outputs": [
    {
     "data": {
      "text/html": [
       "<div>\n",
       "<style scoped>\n",
       "    .dataframe tbody tr th:only-of-type {\n",
       "        vertical-align: middle;\n",
       "    }\n",
       "\n",
       "    .dataframe tbody tr th {\n",
       "        vertical-align: top;\n",
       "    }\n",
       "\n",
       "    .dataframe thead th {\n",
       "        text-align: right;\n",
       "    }\n",
       "</style>\n",
       "<table border=\"1\" class=\"dataframe\">\n",
       "  <thead>\n",
       "    <tr style=\"text-align: right;\">\n",
       "      <th></th>\n",
       "      <th>W</th>\n",
       "      <th>S</th>\n",
       "      <th>Q</th>\n",
       "      <th>U</th>\n",
       "      <th>H</th>\n",
       "    </tr>\n",
       "  </thead>\n",
       "  <tbody>\n",
       "    <tr>\n",
       "      <th>count</th>\n",
       "      <td>1067.000000</td>\n",
       "      <td>1067.000000</td>\n",
       "      <td>1067.000000</td>\n",
       "      <td>1067.000000</td>\n",
       "      <td>1067.000000</td>\n",
       "    </tr>\n",
       "    <tr>\n",
       "      <th>mean</th>\n",
       "      <td>43.311378</td>\n",
       "      <td>0.018194</td>\n",
       "      <td>145.828163</td>\n",
       "      <td>1.050431</td>\n",
       "      <td>0.795586</td>\n",
       "    </tr>\n",
       "    <tr>\n",
       "      <th>std</th>\n",
       "      <td>80.421656</td>\n",
       "      <td>0.017952</td>\n",
       "      <td>408.636948</td>\n",
       "      <td>0.547559</td>\n",
       "      <td>0.996045</td>\n",
       "    </tr>\n",
       "    <tr>\n",
       "      <th>min</th>\n",
       "      <td>0.600000</td>\n",
       "      <td>0.000110</td>\n",
       "      <td>0.010000</td>\n",
       "      <td>0.130000</td>\n",
       "      <td>0.060000</td>\n",
       "    </tr>\n",
       "    <tr>\n",
       "      <th>25%</th>\n",
       "      <td>5.455000</td>\n",
       "      <td>0.002300</td>\n",
       "      <td>1.100000</td>\n",
       "      <td>0.630000</td>\n",
       "      <td>0.280000</td>\n",
       "    </tr>\n",
       "    <tr>\n",
       "      <th>50%</th>\n",
       "      <td>8.530000</td>\n",
       "      <td>0.013100</td>\n",
       "      <td>3.200000</td>\n",
       "      <td>0.960000</td>\n",
       "      <td>0.390000</td>\n",
       "    </tr>\n",
       "    <tr>\n",
       "      <th>75%</th>\n",
       "      <td>18.400000</td>\n",
       "      <td>0.025000</td>\n",
       "      <td>20.100000</td>\n",
       "      <td>1.340000</td>\n",
       "      <td>0.870000</td>\n",
       "    </tr>\n",
       "    <tr>\n",
       "      <th>max</th>\n",
       "      <td>466.000000</td>\n",
       "      <td>0.085600</td>\n",
       "      <td>4559.010000</td>\n",
       "      <td>3.850000</td>\n",
       "      <td>14.000000</td>\n",
       "    </tr>\n",
       "  </tbody>\n",
       "</table>\n",
       "</div>"
      ],
      "text/plain": [
       "                 W            S            Q            U            H\n",
       "count  1067.000000  1067.000000  1067.000000  1067.000000  1067.000000\n",
       "mean     43.311378     0.018194   145.828163     1.050431     0.795586\n",
       "std      80.421656     0.017952   408.636948     0.547559     0.996045\n",
       "min       0.600000     0.000110     0.010000     0.130000     0.060000\n",
       "25%       5.455000     0.002300     1.100000     0.630000     0.280000\n",
       "50%       8.530000     0.013100     3.200000     0.960000     0.390000\n",
       "75%      18.400000     0.025000    20.100000     1.340000     0.870000\n",
       "max     466.000000     0.085600  4559.010000     3.850000    14.000000"
      ]
     },
     "execution_count": 4,
     "metadata": {},
     "output_type": "execute_result"
    }
   ],
   "source": [
    "import pandas as pd\n",
    "data = pd.read_csv(\"bedload_dataset.csv\")\n",
    "data.describe()"
   ]
  },
  {
   "cell_type": "code",
   "execution_count": 8,
   "id": "b58b7ae0",
   "metadata": {},
   "outputs": [
    {
     "data": {
      "image/png": "[encoded data removed]",
      "text/plain": [
       "<Figure size 432x288 with 1 Axes>"
      ]
     },
     "metadata": {
      "needs_background": "light"
     },
     "output_type": "display_data"
    }
   ],
   "source": [
    "for column in data.columns:\n",
    "    if not \"morph\" in str(column).lower():\n",
    "        data[column].plot(kind='hist')"
   ]
  },
  {
   "cell_type": "code",
   "execution_count": 11,
   "id": "cb887126",
   "metadata": {},
   "outputs": [
    {
     "name": "stdout",
     "output_type": "stream",
     "text": [
      "Outliners in column W:            W        S        Q     U     H   Morphology\n",
      "0      65.23  0.00410   319.98  2.90  1.69  Riffle-pool\n",
      "3     166.12  0.00068  1124.18  1.78  3.81  Riffle-pool\n",
      "11     63.00  0.00250    90.30  1.70  0.86  Riffle-pool\n",
      "20     53.00  0.00130    34.80  1.40  0.46  Riffle-pool\n",
      "21    182.88  0.00092  2067.13  2.41  4.72  Riffle-pool\n",
      "...      ...      ...      ...   ...   ...          ...\n",
      "1059  288.00  0.00170  1580.00  2.00  2.80     Braiding\n",
      "1060  108.00  0.00096   643.00  2.60  2.40     Braiding\n",
      "1061  185.00  0.00120   595.00  1.80  1.80     Braiding\n",
      "1062  102.00  0.00096   171.00  1.40  1.20     Braiding\n",
      "1064  101.00  0.00044   260.00  1.50  1.80     Braiding\n",
      "\n",
      "[239 rows x 6 columns]\n",
      "Outliners in column S:         W       S     Q     U     H Morphology\n",
      "254  0.71  0.0718  0.08  0.51  0.23  Plane Bed\n",
      "255  0.71  0.0718  0.08  0.51  0.23  Plane Bed\n",
      "258  0.71  0.0718  0.14  0.64  0.30  Plane Bed\n",
      "292  0.71  0.0718  0.01  0.23  0.09  Plane Bed\n",
      "303  0.70  0.0718  0.04  0.38  0.16  Plane Bed\n",
      "332  0.71  0.0718  0.13  0.62  0.29  Plane Bed\n",
      "362  0.70  0.0718  0.05  0.39  0.17  Plane Bed\n",
      "396  0.71  0.0718  0.02  0.29  0.12  Plane Bed\n",
      "431  0.71  0.0718  0.04  0.38  0.16  Plane Bed\n",
      "455  0.70  0.0718  0.05  0.39  0.17  Plane Bed\n",
      "724  1.80  0.0856  0.12  0.48  0.14  Step-pool\n",
      "755  1.90  0.0856  0.35  0.77  0.24  Step-pool\n",
      "774  5.25  0.0600  2.28  1.31  0.33  Step-pool\n",
      "Outliners in column Q:            W        S        Q     U     H   Morphology\n",
      "0      65.23  0.00410   319.98  2.90  1.69  Riffle-pool\n",
      "3     166.12  0.00068  1124.18  1.78  3.81  Riffle-pool\n",
      "11     63.00  0.00250    90.30  1.70  0.86  Riffle-pool\n",
      "21    182.88  0.00092  2067.13  2.41  4.72  Riffle-pool\n",
      "25     59.80  0.00410   152.35  2.14  1.19  Riffle-pool\n",
      "...      ...      ...      ...   ...   ...          ...\n",
      "1059  288.00  0.00170  1580.00  2.00  2.80     Braiding\n",
      "1060  108.00  0.00096   643.00  2.60  2.40     Braiding\n",
      "1061  185.00  0.00120   595.00  1.80  1.80     Braiding\n",
      "1062  102.00  0.00096   171.00  1.40  1.20     Braiding\n",
      "1064  101.00  0.00044   260.00  1.50  1.80     Braiding\n",
      "\n",
      "[231 rows x 6 columns]\n",
      "Outliners in column U:            W        S        Q     U     H   Morphology\n",
      "0      65.23  0.00410   319.98  2.90  1.69  Riffle-pool\n",
      "21    182.88  0.00092  2067.13  2.41  4.72  Riffle-pool\n",
      "62    182.88  0.00094  2132.26  2.45  4.79  Riffle-pool\n",
      "63     65.53  0.00410   328.48  2.93  1.71  Riffle-pool\n",
      "140    65.23  0.00410   319.98  2.90  1.69  Riffle-pool\n",
      "146    65.53  0.00410   328.48  2.93  1.71  Riffle-pool\n",
      "151   192.02  0.00112  3001.59  2.91  5.36  Riffle-pool\n",
      "175    67.00  0.00250   247.00  2.70  1.50  Riffle-pool\n",
      "180   185.93  0.00099  2378.62  2.59  4.97  Riffle-pool\n",
      "233    65.38  0.00410   317.15  2.89  1.68  Riffle-pool\n",
      "234    63.55  0.00410   246.36  2.60  1.49  Riffle-pool\n",
      "236    65.62  0.00410   345.47  2.99  1.76  Riffle-pool\n",
      "244   204.22  0.00138  4559.01  3.58  6.22  Riffle-pool\n",
      "245    64.98  0.00410   305.82  2.84  1.66  Riffle-pool\n",
      "246   187.45  0.00103  2599.49  2.71  5.12  Riffle-pool\n",
      "266   143.26  0.00040  1812.28  2.53  5.06    Plane Bed\n",
      "347   141.73  0.00033  1701.84  2.41  5.00    Plane Bed\n",
      "447    91.32  0.00190   498.38  2.42  2.26    Plane Bed\n",
      "475    97.84  0.00210  1067.55  3.85  2.83    Plane Bed\n",
      "477    86.87  0.00190   538.02  2.49  2.49    Plane Bed\n",
      "851   291.00  0.00170  1790.00  2.60  3.10     Braiding\n",
      "926   119.00  0.00120   838.00  2.50  2.80     Braiding\n",
      "947   123.00  0.00140   946.00  2.50  3.10     Braiding\n",
      "1000  201.00  0.00120  1310.00  2.70  2.40     Braiding\n",
      "1060  108.00  0.00096   643.00  2.60  2.40     Braiding\n",
      "Outliners in column H:            W        S        Q     U     H   Morphology\n",
      "3     166.12  0.00068  1124.18  1.78  3.81  Riffle-pool\n",
      "21    182.88  0.00092  2067.13  2.41  4.72  Riffle-pool\n",
      "62    182.88  0.00094  2132.26  2.45  4.79  Riffle-pool\n",
      "72    226.00  0.00025   348.00  0.80  1.90  Riffle-pool\n",
      "107   158.50  0.00060   925.96  1.62  3.57  Riffle-pool\n",
      "...      ...      ...      ...   ...   ...          ...\n",
      "1057  189.00  0.00120   861.00  2.40  1.90     Braiding\n",
      "1059  288.00  0.00170  1580.00  2.00  2.80     Braiding\n",
      "1060  108.00  0.00096   643.00  2.60  2.40     Braiding\n",
      "1061  185.00  0.00120   595.00  1.80  1.80     Braiding\n",
      "1064  101.00  0.00044   260.00  1.50  1.80     Braiding\n",
      "\n",
      "[140 rows x 6 columns]\n",
      "Column 'Morphology' is not numeric.\n"
     ]
    }
   ],
   "source": [
    "for column in data.columns:\n",
    "    try:\n",
    "        Q1 = data[column].quantile(0.25)\n",
    "        Q3 = data[column].quantile(0.75)\n",
    "        IQR = Q3 - Q1\n",
    "        outliers = data[(data[column] < Q1 - 1.5 * IQR) | (data[column] > Q3 + 1.5 *IQR)]\n",
    "        print(\"Outliners in column \" + str(column) + \": \" + str(outliers))\n",
    "    except TypeError:\n",
    "        print(f\"Column '{column}' is not numeric.\")"
   ]
  },
  {
   "cell_type": "code",
   "execution_count": 13,
   "id": "4e20cb85",
   "metadata": {},
   "outputs": [],
   "source": [
    "import scipy.stats as stats\n",
    "import numpy as np\n",
    "numeric_columns = data.select_dtypes(include=[np.number])"
   ]
  },
  {
   "cell_type": "code",
   "execution_count": 18,
   "id": "9742d93e",
   "metadata": {},
   "outputs": [],
   "source": [
    "normality_results = {}\n",
    "for column in numeric_columns:\n",
    "    stat, p_value= stats.shapiro(numeric_columns[column])\n",
    "    normality_results[column] = {\"Statistic\": stat, \"p-value\": p_value, \"Normality\": p_value > 0.05}"
   ]
  },
  {
   "cell_type": "code",
   "execution_count": 19,
   "id": "9ba32976",
   "metadata": {},
   "outputs": [
    {
     "data": {
      "text/plain": [
       "{'W': {'Statistic': 0.5522581934928894,\n",
       "  'p-value': 1.401298464324817e-45,\n",
       "  'Normality': False},\n",
       " 'S': {'Statistic': 0.8678439259529114,\n",
       "  'p-value': 4.538365742468255e-29,\n",
       "  'Normality': False},\n",
       " 'Q': {'Statistic': 0.4087470769882202, 'p-value': 0.0, 'Normality': False},\n",
       " 'U': {'Statistic': 0.9356546998023987,\n",
       "  'p-value': 4.733041838910328e-21,\n",
       "  'Normality': False},\n",
       " 'H': {'Statistic': 0.6150405406951904,\n",
       "  'p-value': 1.5974802493302915e-43,\n",
       "  'Normality': False}}"
      ]
     },
     "execution_count": 19,
     "metadata": {},
     "output_type": "execute_result"
    }
   ],
   "source": [
    "normality_results"
   ]
  },
  {
   "cell_type": "code",
   "execution_count": 20,
   "id": "7d80618b",
   "metadata": {},
   "outputs": [],
   "source": [
    "import matplotlib.pyplot as plt\n",
    "\n",
    "def create_qq_plots(df):\n",
    "    for column in df.columns:\n",
    "        #Drop missing values\n",
    "        column_data = df[column].dropna()\n",
    "        \n",
    "        #Generate QQ plot\n",
    "        plt.figure()\n",
    "        stats.probplot(column_data, dist=\"norm\", plot=plt)\n",
    "        plt.title(f\"QQ Plot for {column}\")\n",
    "        plt.xlabel(\"Theoretical Quantiles\")\n",
    "        plt.ylabel(\"Sample Quantiles\")\n",
    "        plt.show()"
   ]
  },
  {
   "cell_type": "code",
   "execution_count": 21,
   "id": "8becbd94",
   "metadata": {},
   "outputs": [
    {
     "data": {
      "image/png": "[encoded data removed]",
      "text/plain": [
       "<Figure size 432x288 with 1 Axes>"
      ]
     },
     "metadata": {
      "needs_background": "light"
     },
     "output_type": "display_data"
    },
    {
     "data": {
      "image/png": "[encoded data removed]",
      "text/plain": [
       "<Figure size 432x288 with 1 Axes>"
      ]
     },
     "metadata": {
      "needs_background": "light"
     },
     "output_type": "display_data"
    },
    {
     "data": {
      "image/png": "[encoded data removed]",
      "text/plain": [
       "<Figure size 432x288 with 1 Axes>"
      ]
     },
     "metadata": {
      "needs_background": "light"
     },
     "output_type": "display_data"
    },
    {
     "data": {
      "image/png": "[encoded data removed]",
      "text/plain": [
       "<Figure size 432x288 with 1 Axes>"
      ]
     },
     "metadata": {
      "needs_background": "light"
     },
     "output_type": "display_data"
    },
    {
     "data": {
      "image/png": "[encoded data removed]",
      "text/plain": [
       "<Figure size 432x288 with 1 Axes>"
      ]
     },
     "metadata": {
      "needs_background": "light"
     },
     "output_type": "display_data"
    }
   ],
   "source": [
    "create_qq_plots(numeric_columns)"
   ]
  },
  {
   "cell_type": "code",
   "execution_count": 22,
   "id": "67846a55",
   "metadata": {},
   "outputs": [],
   "source": [
    "distributions = ['norm', 'lognorm', 'expon', 'gamma', 'weibull_min']"
   ]
  },
  {
   "cell_type": "code",
   "execution_count": 26,
   "id": "57601311",
   "metadata": {},
   "outputs": [
    {
     "data": {
      "text/plain": [
       "{'W': {'distribution': 'lognorm',\n",
       "  'p_value': 1.3281479862159963e-25,\n",
       "  'params': (1.5020661549966676, 0.5466562176441883, 12.19514555485304)},\n",
       " 'S': {'distribution': 'lognorm',\n",
       "  'p_value': 7.560101424369426e-18,\n",
       "  'params': (1.61168379026289, 4.413912845925009e-05, 0.007833012236740884)},\n",
       " 'Q': {'distribution': 'lognorm',\n",
       "  'p_value': 7.5066705228892e-17,\n",
       "  'params': (2.602729339884881, 0.009439797821284762, 6.0684383175324434)},\n",
       " 'U': {'distribution': 'gamma',\n",
       "  'p_value': 0.9501777346713755,\n",
       "  'params': (3.0373864872481873, 0.09089018249168254, 0.3159105378423672)},\n",
       " 'H': {'distribution': 'lognorm',\n",
       "  'p_value': 2.1632652065346276e-11,\n",
       "  'params': (1.0176242593232163, 0.048290891105940925, 0.4295242325477308)}}"
      ]
     },
     "execution_count": 26,
     "metadata": {},
     "output_type": "execute_result"
    }
   ],
   "source": [
    "best_fit_results = {}\n",
    "\n",
    "for column in numeric_columns:\n",
    "    column_data = numeric_columns[column].dropna() #Removing Nans\n",
    "    best_fit = {'distribution': None, 'p_value': 0}\n",
    "    \n",
    "    for dist_name in distributions:\n",
    "        dist = getattr(stats, dist_name)\n",
    "        params = dist.fit(column_data)\n",
    "        \n",
    "        #Peform the Kolmogorov.Smirnov test\n",
    "        ks_stat, p_value = stats.kstest(column_data, dist_name, args=params)\n",
    "        \n",
    "        #Keep track of the distribution with the highest p-value\n",
    "        if p_value > best_fit['p_value']:\n",
    "            best_fit = {'distribution': dist_name, 'p_value': p_value, 'params': params}\n",
    "    \n",
    "    best_fit_results[column] = best_fit\n",
    "\n",
    "best_fit_results"
   ]
  },
  {
   "cell_type": "code",
   "execution_count": 29,
   "id": "558fac04",
   "metadata": {},
   "outputs": [
    {
     "name": "stdout",
     "output_type": "stream",
     "text": [
      "          W         S         Q         U         H\n",
      "W  1.000000 -0.803452  0.926306  0.565058  0.815212\n",
      "S -0.803452  1.000000 -0.778831 -0.387029 -0.767482\n",
      "Q  0.926306 -0.778831  1.000000  0.763733  0.932169\n",
      "U  0.565058 -0.387029  0.763733  1.000000  0.665300\n",
      "H  0.815212 -0.767482  0.932169  0.665300  1.000000\n"
     ]
    }
   ],
   "source": [
    "spearman_correlation = numeric_columns.corr(method='spearman')\n",
    "print(spearman_correlation)"
   ]
  },
  {
   "cell_type": "markdown",
   "id": "6bc42ee1",
   "metadata": {},
   "source": [
    "# Homework\n",
    "fitter package,\n",
    "find best fitter to the data here\n",
    "scipy needed"
   ]
  },
  {
   "cell_type": "markdown",
   "id": "a6804ffa",
   "metadata": {},
   "source": [
    "PCA = principal \n",
    "from sklearn.decomposition import PCA\n",
    "from sklearn.preprocessing import StandardScaler\n",
    "scaler = StadardScaler()\n",
    "scaled_data = scaler.fit_transform(numeric_columns)\n",
    "principal_components = pca.fit_transform(scaled_data)\n",
    "\n",
    "look into the principal components and try to interprete them\n",
    "plt.scatter(pca_df['PC1'], pca_df['PC2'])\n",
    "try to interprete this plot and results\n",
    "\n",
    "#create a dataframe with the PCA results\n",
    "pca_df = pd.DataFrame(data=principal_components, columns=['PCA1', 'PCA2'])"
   ]
  },
  {
   "cell_type": "code",
   "execution_count": null,
   "id": "dcb0101f",
   "metadata": {},
   "outputs": [],
   "source": []
  }
 ],
 "metadata": {
  "kernelspec": {
   "display_name": "Python 3",
   "language": "python",
   "name": "python3"
  },
  "language_info": {
   "codemirror_mode": {
    "name": "ipython",
    "version": 3
   },
   "file_extension": ".py",
   "mimetype": "text/x-python",
   "name": "python",
   "nbconvert_exporter": "python",
   "pygments_lexer": "ipython3",
   "version": "3.9.11"
  }
 },
 "nbformat": 4,
 "nbformat_minor": 5
}
