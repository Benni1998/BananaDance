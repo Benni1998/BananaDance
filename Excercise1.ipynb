{
 "cells": [
  {
   "cell_type": "code",
   "execution_count": 1,
   "id": "c1546d96-e0f5-4440-a4a7-b03344ca5233",
   "metadata": {},
   "outputs": [
    {
     "name": "stdin",
     "output_type": "stream",
     "text": [
      "Please enter only the following shape names: trapezoidal, rectangular or circular:  test\n"
     ]
    },
    {
     "name": "stdout",
     "output_type": "stream",
     "text": [
      "ERROR: Please enter only the following shape names: trapezoidal, rectangular or circular\n",
      "The flow is Turbulent with Reynolds = 90000.0\n",
      "The flow is little critical with Froud = 0.17487435419566724\n"
     ]
    }
   ],
   "source": [
    "#shape= \"test\" #shape\n",
    "roh=1000 # kg/m³\n",
    "v=0.3 # m/s\n",
    "h=0.5 # m\n",
    "b=0.25 # m if trapezoidal --> lower bound\n",
    "a=0.1 # m if trapezoidal --> upper bound\n",
    "L=0.3 # m Waterdepth\n",
    "r=0.6 # m Radius of the canal\n",
    "\n",
    "def main_function(roh,v,h,b,a,L,r):\n",
    "    shape = input(\"Please enter only the following shape names: trapezoidal, rectangular or circular: \")\n",
    "    if \"circular\" in shape:\n",
    "        calculate_circular(r,v)\n",
    "    elif \"rectangular\" in shape:\n",
    "        calculate_rectangular(h,b,v)\n",
    "    elif \"trapezoidal\" in shape:\n",
    "        calculate_trapezoidal(a,b,h,v)\n",
    "    else:\n",
    "        print(\"ERROR: Please enter only the following shape names: trapezoidal, rectangular or circular\")\n",
    "    calculate_reynolds(roh,v,L)\n",
    "    calculate_froud(v,L)\n",
    "    \n",
    "    \n",
    "def calculate_reynolds(roh,v,L):\n",
    "    nu=10**-3\n",
    "    Re=(roh*v*L)/nu\n",
    "    print(\"The flow is {0} with Reynolds = {1}\".format(classify_flow(Re),Re))\n",
    "\n",
    "def classify_flow(Re):\n",
    "    \"\"\"\n",
    "    Classifies the flow based on the Reynolds number.\n",
    "    \n",
    "    Parameters:\n",
    "    reynolds_number (float): The Reynolds number to classify.\n",
    "    \n",
    "    Returns:\n",
    "    str: The flow type (laminar, transitional, or turbulent).\n",
    "    \"\"\"\n",
    "    if Re < 2300:\n",
    "        return \"Laminar\"\n",
    "    elif 2300 <= Re <= 4000:\n",
    "        return \"Transitional\"\n",
    "    else:\n",
    "        return \"Turbulent\"\n",
    "        \n",
    "def calculate_froud(v,L):\n",
    "    \"\"\"\n",
    "    Classifies the flow based on the Froud number.\n",
    "    \n",
    "    Parameters:\n",
    "    froud_number (float): The Froud number to classify.\n",
    "    \n",
    "    Returns:\n",
    "    str: The flow type (little critical, critical, or huge critical).\n",
    "    \"\"\"\n",
    "    Fr=v/((9.81*L)**0.5)\n",
    "    if Fr < 1:\n",
    "        result = \"little critical\"\n",
    "    elif Fr == 1:\n",
    "        result = \"critical\"\n",
    "    else:\n",
    "        result = \"huge critical\"\n",
    "     \n",
    "    print(\"The flow is {0} with Froud = {1}\".format(result,Fr))\n",
    "\n",
    "\n",
    "def calculate_circular(r,v):\n",
    "    Ac = 3.1415 * r**2\n",
    "    Qc = Ac*v\n",
    "    print(\"For circular your answer is Q = {0} and A = {1}\".format(Qc,Ac))\n",
    "\n",
    "def calculate_rectangular(h,b,v):\n",
    "    Ar=h*b\n",
    "    Qr=Ar*v\n",
    "    print(\"For rectangular your answer is Q = {0} and A = {1}\".format(Qr,Ar))\n",
    "\n",
    "def calculate_trapezoidal(a,b,h,v):\n",
    "    At=(a+b)*0.5*h\n",
    "    Qt=At*v\n",
    "    print(\"For trapezoidal your answer is Q = {0} and A = {1}\".format(Qt,At))\n",
    "\n",
    "main_function(roh,v,h,b,a,L,r)   "
   ]
  },
  {
   "cell_type": "code",
   "execution_count": null,
   "id": "cf59c773-20c0-4ad2-9551-823497a1fec0",
   "metadata": {},
   "outputs": [],
   "source": []
  }
 ],
 "metadata": {
  "kernelspec": {
   "display_name": "Python 3 (ipykernel)",
   "language": "python",
   "name": "python3"
  },
  "language_info": {
   "codemirror_mode": {
    "name": "ipython",
    "version": 3
   },
   "file_extension": ".py",
   "mimetype": "text/x-python",
   "name": "python",
   "nbconvert_exporter": "python",
   "pygments_lexer": "ipython3",
   "version": "3.12.3"
  }
 },
 "nbformat": 4,
 "nbformat_minor": 5
}
